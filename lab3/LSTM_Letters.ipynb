{
 "cells": [
  {
   "cell_type": "code",
   "execution_count": 1,
   "metadata": {
    "execution": {
     "iopub.execute_input": "2024-05-26T13:18:53.420725Z",
     "iopub.status.busy": "2024-05-26T13:18:53.420317Z",
     "iopub.status.idle": "2024-05-26T13:18:55.500344Z",
     "shell.execute_reply": "2024-05-26T13:18:55.499675Z",
     "shell.execute_reply.started": "2024-05-26T13:18:53.420699Z"
    },
    "id": "EvyxcS-gmU2R",
    "tags": []
   },
   "outputs": [
    {
     "name": "stderr",
     "output_type": "stream",
     "text": [
      "2024-05-26 13:18:53.597796: I tensorflow/core/platform/cpu_feature_guard.cc:182] This TensorFlow binary is optimized to use available CPU instructions in performance-critical operations.\n",
      "To enable the following instructions: AVX2 FMA, in other operations, rebuild TensorFlow with the appropriate compiler flags.\n",
      "2024-05-26 13:18:54.362425: W tensorflow/compiler/tf2tensorrt/utils/py_utils.cc:38] TF-TRT Warning: Could not find TensorRT\n"
     ]
    }
   ],
   "source": [
    "import numpy as np\n",
    "import os\n",
    "import tensorflow as tf\n",
    "from tensorflow.data import Dataset, AUTOTUNE\n",
    "from tensorflow import keras\n",
    "from typing import Dict, Tuple\n",
    "import keras.layers as l\n",
    "from keras import models, callbacks, utils, losses\n",
    "import string\n",
    "import re"
   ]
  },
  {
   "cell_type": "code",
   "execution_count": 2,
   "metadata": {
    "execution": {
     "iopub.execute_input": "2024-05-26T13:18:55.501953Z",
     "iopub.status.busy": "2024-05-26T13:18:55.501290Z",
     "iopub.status.idle": "2024-05-26T13:18:58.883845Z",
     "shell.execute_reply": "2024-05-26T13:18:58.882869Z",
     "shell.execute_reply.started": "2024-05-26T13:18:55.501933Z"
    },
    "tags": []
   },
   "outputs": [],
   "source": [
    "valid_letters = set(\"ёйцукенгшщзхъфывапролджэячсмитьбюЁЙЦУКЕНГШЩЗХЪФЫВАПРОЛДЖЭЯЧСМИТЬБЮ\" + string.printable)\n",
    "dirname = \"books\"\n",
    "\n",
    "text = []\n",
    "for subdir in os.listdir(dirname):\n",
    "    for text_file in os.listdir(f\"{dirname}/{subdir}\"):\n",
    "        if not re.match(r\"[a-zA-Z_0-9]+.txt\", text_file):\n",
    "            continue\n",
    "        with open(f\"{dirname}/{subdir}/{text_file}\") as f:\n",
    "            text.extend([ch for ch in f.read() if ch in valid_letters])\n",
    "text = \"\".join(text)[:2_000_000]"
   ]
  },
  {
   "cell_type": "code",
   "execution_count": 3,
   "metadata": {
    "execution": {
     "iopub.execute_input": "2024-05-26T13:18:58.884900Z",
     "iopub.status.busy": "2024-05-26T13:18:58.884577Z",
     "iopub.status.idle": "2024-05-26T13:22:12.425308Z",
     "shell.execute_reply": "2024-05-26T13:22:12.424511Z",
     "shell.execute_reply.started": "2024-05-26T13:18:58.884880Z"
    },
    "id": "h808pCammmwI",
    "tags": []
   },
   "outputs": [
    {
     "name": "stderr",
     "output_type": "stream",
     "text": [
      "2024-05-26 13:22:11.597161: I tensorflow/core/common_runtime/gpu/gpu_device.cc:1635] Created device /job:localhost/replica:0/task:0/device:GPU:0 with 79262 MB memory:  -> device: 0, name: NVIDIA A100-SXM4-80GB, pci bus id: 0000:8c:00.0, compute capability: 8.0\n"
     ]
    }
   ],
   "source": [
    "def get_features_target(seq: tf.Tensor) -> Tuple[tf.Tensor, tf.Tensor]:\n",
    "    features = seq[:-1]\n",
    "    target = seq[1:]\n",
    "    return features, target\n",
    "\n",
    "BATCH_SIZE = 128\n",
    "\n",
    "alphabet = np.array(sorted(set(text)))\n",
    "\n",
    "word_index = {char: i for i, char in enumerate(alphabet)}\n",
    "index_word = {i: char for i, char in enumerate(alphabet)}\n",
    "\n",
    "sequences = Dataset.from_tensor_slices(np.array([word_index[char] for char in text])).batch(BATCH_SIZE, drop_remainder=True)\n",
    "dataset = sequences.map(get_features_target)\n",
    "\n",
    "data = dataset.batch(BATCH_SIZE, drop_remainder=True).repeat()\n",
    "data = data.prefetch(AUTOTUNE)\n"
   ]
  },
  {
   "cell_type": "code",
   "execution_count": 4,
   "metadata": {
    "colab": {
     "base_uri": "https://localhost:8080/"
    },
    "execution": {
     "iopub.execute_input": "2024-05-26T13:22:12.426819Z",
     "iopub.status.busy": "2024-05-26T13:22:12.426499Z",
     "iopub.status.idle": "2024-05-26T13:24:52.511772Z",
     "shell.execute_reply": "2024-05-26T13:24:52.511086Z",
     "shell.execute_reply.started": "2024-05-26T13:22:12.426794Z"
    },
    "id": "rH7Bjz_gEwU-",
    "outputId": "de785e2f-85cd-4776-c11f-ac006667cdd7",
    "tags": []
   },
   "outputs": [
    {
     "name": "stderr",
     "output_type": "stream",
     "text": [
      "2024-05-26 13:22:12.758319: I tensorflow/core/common_runtime/executor.cc:1197] [/device:CPU:0] (DEBUG INFO) Executor start aborting (this does not indicate an error and you can ignore this message): INVALID_ARGUMENT: You must feed a value for placeholder tensor 'gradients/split_2_grad/concat/split_2/split_dim' with dtype int32\n",
      "\t [[{{node gradients/split_2_grad/concat/split_2/split_dim}}]]\n",
      "2024-05-26 13:22:12.760134: I tensorflow/core/common_runtime/executor.cc:1197] [/device:CPU:0] (DEBUG INFO) Executor start aborting (this does not indicate an error and you can ignore this message): INVALID_ARGUMENT: You must feed a value for placeholder tensor 'gradients/split_grad/concat/split/split_dim' with dtype int32\n",
      "\t [[{{node gradients/split_grad/concat/split/split_dim}}]]\n",
      "2024-05-26 13:22:12.761332: I tensorflow/core/common_runtime/executor.cc:1197] [/device:CPU:0] (DEBUG INFO) Executor start aborting (this does not indicate an error and you can ignore this message): INVALID_ARGUMENT: You must feed a value for placeholder tensor 'gradients/split_1_grad/concat/split_1/split_dim' with dtype int32\n",
      "\t [[{{node gradients/split_1_grad/concat/split_1/split_dim}}]]\n",
      "2024-05-26 13:22:13.013891: I tensorflow/core/common_runtime/executor.cc:1197] [/device:CPU:0] (DEBUG INFO) Executor start aborting (this does not indicate an error and you can ignore this message): INVALID_ARGUMENT: You must feed a value for placeholder tensor 'gradients/split_2_grad/concat/split_2/split_dim' with dtype int32\n",
      "\t [[{{node gradients/split_2_grad/concat/split_2/split_dim}}]]\n",
      "2024-05-26 13:22:13.015138: I tensorflow/core/common_runtime/executor.cc:1197] [/device:CPU:0] (DEBUG INFO) Executor start aborting (this does not indicate an error and you can ignore this message): INVALID_ARGUMENT: You must feed a value for placeholder tensor 'gradients/split_grad/concat/split/split_dim' with dtype int32\n",
      "\t [[{{node gradients/split_grad/concat/split/split_dim}}]]\n",
      "2024-05-26 13:22:13.016342: I tensorflow/core/common_runtime/executor.cc:1197] [/device:CPU:0] (DEBUG INFO) Executor start aborting (this does not indicate an error and you can ignore this message): INVALID_ARGUMENT: You must feed a value for placeholder tensor 'gradients/split_1_grad/concat/split_1/split_dim' with dtype int32\n",
      "\t [[{{node gradients/split_1_grad/concat/split_1/split_dim}}]]\n",
      "2024-05-26 13:22:13.086677: I tensorflow/core/common_runtime/executor.cc:1197] [/device:CPU:0] (DEBUG INFO) Executor start aborting (this does not indicate an error and you can ignore this message): INVALID_ARGUMENT: You must feed a value for placeholder tensor 'Placeholder/_0' with dtype int64 and shape [2000000]\n",
      "\t [[{{node Placeholder/_0}}]]\n",
      "2024-05-26 13:22:13.086921: I tensorflow/core/common_runtime/executor.cc:1197] [/device:CPU:0] (DEBUG INFO) Executor start aborting (this does not indicate an error and you can ignore this message): INVALID_ARGUMENT: You must feed a value for placeholder tensor 'Placeholder/_0' with dtype int64 and shape [2000000]\n",
      "\t [[{{node Placeholder/_0}}]]\n"
     ]
    },
    {
     "name": "stdout",
     "output_type": "stream",
     "text": [
      "Epoch 1/65\n"
     ]
    },
    {
     "name": "stderr",
     "output_type": "stream",
     "text": [
      "2024-05-26 13:22:13.267236: I tensorflow/core/common_runtime/executor.cc:1197] [/device:CPU:0] (DEBUG INFO) Executor start aborting (this does not indicate an error and you can ignore this message): INVALID_ARGUMENT: You must feed a value for placeholder tensor 'gradients/split_2_grad/concat/split_2/split_dim' with dtype int32\n",
      "\t [[{{node gradients/split_2_grad/concat/split_2/split_dim}}]]\n",
      "2024-05-26 13:22:13.268993: I tensorflow/core/common_runtime/executor.cc:1197] [/device:CPU:0] (DEBUG INFO) Executor start aborting (this does not indicate an error and you can ignore this message): INVALID_ARGUMENT: You must feed a value for placeholder tensor 'gradients/split_grad/concat/split/split_dim' with dtype int32\n",
      "\t [[{{node gradients/split_grad/concat/split/split_dim}}]]\n",
      "2024-05-26 13:22:13.270808: I tensorflow/core/common_runtime/executor.cc:1197] [/device:CPU:0] (DEBUG INFO) Executor start aborting (this does not indicate an error and you can ignore this message): INVALID_ARGUMENT: You must feed a value for placeholder tensor 'gradients/split_1_grad/concat/split_1/split_dim' with dtype int32\n",
      "\t [[{{node gradients/split_1_grad/concat/split_1/split_dim}}]]\n",
      "2024-05-26 13:22:13.416783: I tensorflow/core/common_runtime/executor.cc:1197] [/device:CPU:0] (DEBUG INFO) Executor start aborting (this does not indicate an error and you can ignore this message): INVALID_ARGUMENT: You must feed a value for placeholder tensor 'gradients/split_2_grad/concat/split_2/split_dim' with dtype int32\n",
      "\t [[{{node gradients/split_2_grad/concat/split_2/split_dim}}]]\n",
      "2024-05-26 13:22:13.417988: I tensorflow/core/common_runtime/executor.cc:1197] [/device:CPU:0] (DEBUG INFO) Executor start aborting (this does not indicate an error and you can ignore this message): INVALID_ARGUMENT: You must feed a value for placeholder tensor 'gradients/split_grad/concat/split/split_dim' with dtype int32\n",
      "\t [[{{node gradients/split_grad/concat/split/split_dim}}]]\n",
      "2024-05-26 13:22:13.419546: I tensorflow/core/common_runtime/executor.cc:1197] [/device:CPU:0] (DEBUG INFO) Executor start aborting (this does not indicate an error and you can ignore this message): INVALID_ARGUMENT: You must feed a value for placeholder tensor 'gradients/split_1_grad/concat/split_1/split_dim' with dtype int32\n",
      "\t [[{{node gradients/split_1_grad/concat/split_1/split_dim}}]]\n",
      "2024-05-26 13:22:14.079078: I tensorflow/core/common_runtime/executor.cc:1197] [/device:CPU:0] (DEBUG INFO) Executor start aborting (this does not indicate an error and you can ignore this message): INVALID_ARGUMENT: You must feed a value for placeholder tensor 'gradients/split_2_grad/concat/split_2/split_dim' with dtype int32\n",
      "\t [[{{node gradients/split_2_grad/concat/split_2/split_dim}}]]\n",
      "2024-05-26 13:22:14.080629: I tensorflow/core/common_runtime/executor.cc:1197] [/device:CPU:0] (DEBUG INFO) Executor start aborting (this does not indicate an error and you can ignore this message): INVALID_ARGUMENT: You must feed a value for placeholder tensor 'gradients/split_grad/concat/split/split_dim' with dtype int32\n",
      "\t [[{{node gradients/split_grad/concat/split/split_dim}}]]\n",
      "2024-05-26 13:22:14.082052: I tensorflow/core/common_runtime/executor.cc:1197] [/device:CPU:0] (DEBUG INFO) Executor start aborting (this does not indicate an error and you can ignore this message): INVALID_ARGUMENT: You must feed a value for placeholder tensor 'gradients/split_1_grad/concat/split_1/split_dim' with dtype int32\n",
      "\t [[{{node gradients/split_1_grad/concat/split_1/split_dim}}]]\n",
      "2024-05-26 13:22:14.234111: I tensorflow/core/common_runtime/executor.cc:1197] [/device:CPU:0] (DEBUG INFO) Executor start aborting (this does not indicate an error and you can ignore this message): INVALID_ARGUMENT: You must feed a value for placeholder tensor 'gradients/split_2_grad/concat/split_2/split_dim' with dtype int32\n",
      "\t [[{{node gradients/split_2_grad/concat/split_2/split_dim}}]]\n",
      "2024-05-26 13:22:14.235290: I tensorflow/core/common_runtime/executor.cc:1197] [/device:CPU:0] (DEBUG INFO) Executor start aborting (this does not indicate an error and you can ignore this message): INVALID_ARGUMENT: You must feed a value for placeholder tensor 'gradients/split_grad/concat/split/split_dim' with dtype int32\n",
      "\t [[{{node gradients/split_grad/concat/split/split_dim}}]]\n",
      "2024-05-26 13:22:14.236603: I tensorflow/core/common_runtime/executor.cc:1197] [/device:CPU:0] (DEBUG INFO) Executor start aborting (this does not indicate an error and you can ignore this message): INVALID_ARGUMENT: You must feed a value for placeholder tensor 'gradients/split_1_grad/concat/split_1/split_dim' with dtype int32\n",
      "\t [[{{node gradients/split_1_grad/concat/split_1/split_dim}}]]\n",
      "2024-05-26 13:22:14.920226: I tensorflow/compiler/xla/stream_executor/cuda/cuda_dnn.cc:424] Loaded cuDNN version 8900\n",
      "2024-05-26 13:22:14.960887: I tensorflow/compiler/xla/stream_executor/cuda/cuda_blas.cc:637] TensorFloat-32 will be used for the matrix multiplication. This will only be logged once.\n",
      "2024-05-26 13:22:14.984035: I tensorflow/compiler/xla/service/service.cc:169] XLA service 0x7fe7f143a700 initialized for platform CUDA (this does not guarantee that XLA will be used). Devices:\n",
      "2024-05-26 13:22:14.984071: I tensorflow/compiler/xla/service/service.cc:177]   StreamExecutor device (0): NVIDIA A100-SXM4-80GB, Compute Capability 8.0\n",
      "2024-05-26 13:22:14.988055: I tensorflow/compiler/mlir/tensorflow/utils/dump_mlir_util.cc:269] disabling MLIR crash reproducer, set env var `MLIR_CRASH_REPRODUCER_DIRECTORY` to enable.\n",
      "2024-05-26 13:22:15.111499: I ./tensorflow/compiler/jit/device_compiler.h:180] Compiled cluster using XLA!  This line is logged at most once for the lifetime of the process.\n"
     ]
    },
    {
     "name": "stdout",
     "output_type": "stream",
     "text": [
      "122/122 [==============================] - 8s 46ms/step - loss: 3.2171 - accuracy: 0.1650\n",
      "Epoch 2/65\n",
      "122/122 [==============================] - 2s 19ms/step - loss: 2.6031 - accuracy: 0.2533\n",
      "Epoch 3/65\n",
      "122/122 [==============================] - 2s 17ms/step - loss: 2.3453 - accuracy: 0.3155\n",
      "Epoch 4/65\n",
      "122/122 [==============================] - 3s 21ms/step - loss: 2.1477 - accuracy: 0.3694\n",
      "Epoch 5/65\n",
      "122/122 [==============================] - 3s 21ms/step - loss: 1.9797 - accuracy: 0.4130\n",
      "Epoch 6/65\n",
      "122/122 [==============================] - 2s 17ms/step - loss: 1.8449 - accuracy: 0.4490\n",
      "Epoch 7/65\n",
      "122/122 [==============================] - 2s 16ms/step - loss: 1.7399 - accuracy: 0.4767\n",
      "Epoch 8/65\n",
      "122/122 [==============================] - 2s 17ms/step - loss: 1.6588 - accuracy: 0.4981\n",
      "Epoch 9/65\n",
      "122/122 [==============================] - 3s 23ms/step - loss: 1.5963 - accuracy: 0.5146\n",
      "Epoch 10/65\n",
      "122/122 [==============================] - 3s 23ms/step - loss: 1.5465 - accuracy: 0.5278\n",
      "Epoch 11/65\n",
      "122/122 [==============================] - 3s 23ms/step - loss: 1.5058 - accuracy: 0.5386\n",
      "Epoch 12/65\n",
      "122/122 [==============================] - 3s 23ms/step - loss: 1.4718 - accuracy: 0.5477\n",
      "Epoch 13/65\n",
      "122/122 [==============================] - 2s 17ms/step - loss: 1.4426 - accuracy: 0.5555\n",
      "Epoch 14/65\n",
      "122/122 [==============================] - 2s 17ms/step - loss: 1.4169 - accuracy: 0.5627\n",
      "Epoch 15/65\n",
      "122/122 [==============================] - 2s 17ms/step - loss: 1.3936 - accuracy: 0.5693\n",
      "Epoch 16/65\n",
      "122/122 [==============================] - 2s 18ms/step - loss: 1.3719 - accuracy: 0.5755\n",
      "Epoch 17/65\n",
      "122/122 [==============================] - 3s 24ms/step - loss: 1.3514 - accuracy: 0.5815\n",
      "Epoch 18/65\n",
      "122/122 [==============================] - 3s 23ms/step - loss: 1.3325 - accuracy: 0.5872\n",
      "Epoch 19/65\n",
      "122/122 [==============================] - 3s 22ms/step - loss: 1.3150 - accuracy: 0.5924\n",
      "Epoch 20/65\n",
      "122/122 [==============================] - 2s 18ms/step - loss: 1.2990 - accuracy: 0.5973\n",
      "Epoch 21/65\n",
      "122/122 [==============================] - 2s 19ms/step - loss: 1.2845 - accuracy: 0.6015\n",
      "Epoch 22/65\n",
      "122/122 [==============================] - 2s 19ms/step - loss: 1.2706 - accuracy: 0.6056\n",
      "Epoch 23/65\n",
      "122/122 [==============================] - 2s 19ms/step - loss: 1.2577 - accuracy: 0.6092\n",
      "Epoch 24/65\n",
      "122/122 [==============================] - 3s 23ms/step - loss: 1.2454 - accuracy: 0.6131\n",
      "Epoch 25/65\n",
      "122/122 [==============================] - 3s 23ms/step - loss: 1.2329 - accuracy: 0.6169\n",
      "Epoch 26/65\n",
      "122/122 [==============================] - 2s 17ms/step - loss: 1.2208 - accuracy: 0.6205\n",
      "Epoch 27/65\n",
      "122/122 [==============================] - 2s 16ms/step - loss: 1.2091 - accuracy: 0.6241\n",
      "Epoch 28/65\n",
      "122/122 [==============================] - 2s 16ms/step - loss: 1.1978 - accuracy: 0.6278\n",
      "Epoch 29/65\n",
      "122/122 [==============================] - 2s 16ms/step - loss: 1.1864 - accuracy: 0.6314\n",
      "Epoch 30/65\n",
      "122/122 [==============================] - 2s 19ms/step - loss: 1.1749 - accuracy: 0.6351\n",
      "Epoch 31/65\n",
      "122/122 [==============================] - 3s 23ms/step - loss: 1.1645 - accuracy: 0.6382\n",
      "Epoch 32/65\n",
      "122/122 [==============================] - 3s 23ms/step - loss: 1.1557 - accuracy: 0.6409\n",
      "Epoch 33/65\n",
      "122/122 [==============================] - 3s 24ms/step - loss: 1.1482 - accuracy: 0.6431\n",
      "Epoch 34/65\n",
      "122/122 [==============================] - 3s 23ms/step - loss: 1.1411 - accuracy: 0.6450\n",
      "Epoch 35/65\n",
      "122/122 [==============================] - 3s 23ms/step - loss: 1.1338 - accuracy: 0.6475\n",
      "Epoch 36/65\n",
      "122/122 [==============================] - 3s 23ms/step - loss: 1.1232 - accuracy: 0.6509\n",
      "Epoch 37/65\n",
      "122/122 [==============================] - 3s 23ms/step - loss: 1.1108 - accuracy: 0.6550\n",
      "Epoch 38/65\n",
      "122/122 [==============================] - 3s 23ms/step - loss: 1.0998 - accuracy: 0.6585\n",
      "Epoch 39/65\n",
      "122/122 [==============================] - 2s 18ms/step - loss: 1.0910 - accuracy: 0.6612\n",
      "Epoch 40/65\n",
      "122/122 [==============================] - 2s 16ms/step - loss: 1.0839 - accuracy: 0.6634\n",
      "Epoch 41/65\n",
      "122/122 [==============================] - 2s 16ms/step - loss: 1.0781 - accuracy: 0.6650\n",
      "Epoch 42/65\n",
      "122/122 [==============================] - 2s 17ms/step - loss: 1.0726 - accuracy: 0.6665\n",
      "Epoch 43/65\n",
      "122/122 [==============================] - 2s 17ms/step - loss: 1.0656 - accuracy: 0.6686\n",
      "Epoch 44/65\n",
      "122/122 [==============================] - 2s 17ms/step - loss: 1.0580 - accuracy: 0.6711\n",
      "Epoch 45/65\n",
      "122/122 [==============================] - 2s 19ms/step - loss: 1.0523 - accuracy: 0.6730\n",
      "Epoch 46/65\n",
      "122/122 [==============================] - 3s 24ms/step - loss: 1.0497 - accuracy: 0.6733\n",
      "Epoch 47/65\n",
      "122/122 [==============================] - 3s 24ms/step - loss: 1.0484 - accuracy: 0.6732\n",
      "Epoch 48/65\n",
      "122/122 [==============================] - 2s 18ms/step - loss: 1.0445 - accuracy: 0.6745\n",
      "Epoch 49/65\n",
      "122/122 [==============================] - 2s 19ms/step - loss: 1.0386 - accuracy: 0.6760\n",
      "Epoch 50/65\n",
      "122/122 [==============================] - 3s 24ms/step - loss: 1.0305 - accuracy: 0.6788\n",
      "Epoch 51/65\n",
      "122/122 [==============================] - 2s 17ms/step - loss: 1.0207 - accuracy: 0.6819\n",
      "Epoch 52/65\n",
      "122/122 [==============================] - 2s 17ms/step - loss: 1.0114 - accuracy: 0.6851\n",
      "Epoch 53/65\n",
      "122/122 [==============================] - 2s 17ms/step - loss: 1.0023 - accuracy: 0.6882\n",
      "Epoch 54/65\n",
      "122/122 [==============================] - 2s 17ms/step - loss: 0.9949 - accuracy: 0.6903\n",
      "Epoch 55/65\n",
      "122/122 [==============================] - 2s 17ms/step - loss: 0.9887 - accuracy: 0.6920\n",
      "Epoch 56/65\n",
      "122/122 [==============================] - 2s 20ms/step - loss: 0.9833 - accuracy: 0.6936\n",
      "Epoch 57/65\n",
      "122/122 [==============================] - 2s 16ms/step - loss: 0.9778 - accuracy: 0.6952\n",
      "Epoch 58/65\n",
      "122/122 [==============================] - 2s 16ms/step - loss: 0.9698 - accuracy: 0.6979\n",
      "Epoch 59/65\n",
      "122/122 [==============================] - 2s 16ms/step - loss: 0.9600 - accuracy: 0.7008\n",
      "Epoch 60/65\n",
      "122/122 [==============================] - 2s 16ms/step - loss: 0.9508 - accuracy: 0.7041\n",
      "Epoch 61/65\n",
      "122/122 [==============================] - 2s 16ms/step - loss: 0.9441 - accuracy: 0.7063\n",
      "Epoch 62/65\n",
      "122/122 [==============================] - 2s 20ms/step - loss: 0.9406 - accuracy: 0.7071\n",
      "Epoch 63/65\n",
      "122/122 [==============================] - 2s 18ms/step - loss: 0.9359 - accuracy: 0.7083\n",
      "Epoch 64/65\n",
      "122/122 [==============================] - 2s 18ms/step - loss: 0.9310 - accuracy: 0.7095\n",
      "Epoch 65/65\n",
      "122/122 [==============================] - 2s 16ms/step - loss: 0.9273 - accuracy: 0.7104\n"
     ]
    },
    {
     "data": {
      "text/plain": [
       "<keras.callbacks.History at 0x7fe93e2e7460>"
      ]
     },
     "execution_count": 4,
     "metadata": {},
     "output_type": "execute_result"
    }
   ],
   "source": [
    "model = keras.Sequential([\n",
    "    l.Embedding(len(alphabet), BATCH_SIZE, batch_input_shape=[BATCH_SIZE, None]),\n",
    "    keras.layers.LSTM(512, return_sequences=True, stateful=True),\n",
    "    keras.layers.LSTM(512, return_sequences=True, stateful=True),\n",
    "    l.Dense(len(alphabet))\n",
    "])\n",
    "\n",
    "model.compile(optimizer='adam', loss=losses.SparseCategoricalCrossentropy(from_logits=True), metrics=['accuracy'])\n",
    "model.fit(data, epochs=65, verbose=1, steps_per_epoch= len(sequences) // BATCH_SIZE)"
   ]
  },
  {
   "cell_type": "code",
   "execution_count": 5,
   "metadata": {
    "execution": {
     "iopub.execute_input": "2024-05-26T13:29:34.875949Z",
     "iopub.status.busy": "2024-05-26T13:29:34.875553Z",
     "iopub.status.idle": "2024-05-26T13:29:34.889851Z",
     "shell.execute_reply": "2024-05-26T13:29:34.889193Z",
     "shell.execute_reply.started": "2024-05-26T13:29:34.875929Z"
    },
    "id": "qPRCuF4jtcrQ",
    "tags": []
   },
   "outputs": [],
   "source": [
    "def predict_next(sample: str, model: keras.Sequential, tokenizer: Dict[str, int], vocabulary: Dict[int, str], n_next: int, temperature: float, batch_size: int, word: bool = False) -> str:\n",
    "    if word:\n",
    "        sample_vector = [tokenizer[word] for word in sample.split()]\n",
    "    else:\n",
    "        sample_vector = [tokenizer[char] for char in sample]\n",
    "    predicted = sample_vector\n",
    "    sample_tensor = tf.expand_dims(sample_vector, 0)\n",
    "    sample_tensor = tf.repeat(sample_tensor, batch_size, axis=0)\n",
    "    for i in range(n_next):\n",
    "        pred = model(sample_tensor)\n",
    "        pred = pred[0].numpy() / temperature\n",
    "        pred = tf.random.categorical(pred, num_samples=1)[-1, 0].numpy()\n",
    "        predicted.append(pred)\n",
    "        sample_tensor = predicted[-99:]\n",
    "        sample_tensor = tf.expand_dims([pred], 0)\n",
    "        sample_tensor = tf.repeat(sample_tensor, batch_size, axis=0)\n",
    "    pred_seq = [vocabulary[i] for i in predicted]\n",
    "    generated = ' '.join(pred_seq) if word else ''.join(pred_seq)\n",
    "    return generated"
   ]
  },
  {
   "cell_type": "code",
   "execution_count": 9,
   "metadata": {
    "colab": {
     "base_uri": "https://localhost:8080/"
    },
    "execution": {
     "iopub.execute_input": "2024-05-26T13:52:26.718874Z",
     "iopub.status.busy": "2024-05-26T13:52:26.717996Z",
     "iopub.status.idle": "2024-05-26T13:52:28.906265Z",
     "shell.execute_reply": "2024-05-26T13:52:28.905549Z",
     "shell.execute_reply.started": "2024-05-26T13:52:26.718851Z"
    },
    "id": "mif8PcHiGzv3",
    "outputId": "25286483-8816-497e-dc4c-9f4fa44b9560",
    "tags": []
   },
   "outputs": [
    {
     "name": "stdout",
     "output_type": "stream",
     "text": [
      "что-нибудь в тот дело, когда-нибудь страх? - Мне с ним поднимаются. Теперь уже не хотелось. Он собрал объединиваться на две горячего голово?.. - С десять циновой проектов, давай еред отраженное разговору\n"
     ]
    }
   ],
   "source": [
    "print(predict_next(\n",
    "    sample='что',\n",
    "    model=model,\n",
    "    tokenizer=word_index,\n",
    "    vocabulary=index_word,\n",
    "    n_next=200,\n",
    "    temperature=0.9,\n",
    "    batch_size=BATCH_SIZE\n",
    "))"
   ]
  },
  {
   "cell_type": "code",
   "execution_count": 10,
   "metadata": {
    "colab": {
     "base_uri": "https://localhost:8080/"
    },
    "execution": {
     "iopub.execute_input": "2024-05-26T13:52:28.907919Z",
     "iopub.status.busy": "2024-05-26T13:52:28.907381Z",
     "iopub.status.idle": "2024-05-26T13:52:30.000230Z",
     "shell.execute_reply": "2024-05-26T13:52:29.999487Z",
     "shell.execute_reply.started": "2024-05-26T13:52:28.907898Z"
    },
    "id": "s4BA_0irxMui",
    "outputId": "4abe3fee-6cca-4f00-d4a0-4bac3178add9",
    "tags": []
   },
   "outputs": [
    {
     "name": "stdout",
     "output_type": "stream",
     "text": [
      "где бандитская глаза - просто он просто стоит запотевшего старые рассуждения ничего не выходит на две п\n"
     ]
    }
   ],
   "source": [
    "print(predict_next(\n",
    "    sample='где',\n",
    "    model=model,\n",
    "    tokenizer=word_index,\n",
    "    vocabulary=index_word,\n",
    "    n_next=100,\n",
    "    temperature=0.2,\n",
    "    batch_size=BATCH_SIZE\n",
    "))"
   ]
  },
  {
   "cell_type": "code",
   "execution_count": 11,
   "metadata": {
    "colab": {
     "base_uri": "https://localhost:8080/"
    },
    "execution": {
     "iopub.execute_input": "2024-05-26T13:52:30.001339Z",
     "iopub.status.busy": "2024-05-26T13:52:30.001058Z",
     "iopub.status.idle": "2024-05-26T13:52:31.651175Z",
     "shell.execute_reply": "2024-05-26T13:52:31.650438Z",
     "shell.execute_reply.started": "2024-05-26T13:52:30.001320Z"
    },
    "id": "1nbrkLYzxRPV",
    "outputId": "132656f7-10c7-4225-8dcd-0ad90b14793f",
    "tags": []
   },
   "outputs": [
    {
     "name": "stdout",
     "output_type": "stream",
     "text": [
      "когда из-за лампочка, хотя и не позвонил вам, - его терзала. Я бы тоже предполагал, одновременно скользил головой, больше ничего. - Нет, постой, одно двена\n"
     ]
    }
   ],
   "source": [
    "print(predict_next(\n",
    "    sample='когда',\n",
    "    model=model,\n",
    "    tokenizer=word_index,\n",
    "    vocabulary=index_word,\n",
    "    n_next=150,\n",
    "    temperature=0.9,\n",
    "    batch_size=BATCH_SIZE\n",
    "))"
   ]
  },
  {
   "cell_type": "code",
   "execution_count": null,
   "metadata": {},
   "outputs": [],
   "source": []
  }
 ],
 "metadata": {
  "accelerator": "GPU",
  "colab": {
   "gpuType": "T4",
   "provenance": []
  },
  "kernelspec": {
   "display_name": "DataSphere Kernel",
   "language": "python",
   "name": "python3"
  },
  "language_info": {
   "codemirror_mode": {
    "name": "ipython",
    "version": 3
   },
   "file_extension": ".py",
   "mimetype": "text/x-python",
   "name": "python",
   "nbconvert_exporter": "python",
   "pygments_lexer": "ipython3",
   "version": "3.10.12"
  }
 },
 "nbformat": 4,
 "nbformat_minor": 4
}
